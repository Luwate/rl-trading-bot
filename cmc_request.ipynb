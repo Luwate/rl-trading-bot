{
 "cells": [
  {
   "cell_type": "code",
   "execution_count": 2,
   "metadata": {},
   "outputs": [],
   "source": [
    "import requests\n",
    "import os\n",
    "from dotenv import load_dotenv\n",
    "\n",
    "load_dotenv()\n",
    "\n",
    "CMC_API_KEY = os.getenv(\"CMC_API_KEY\")\n",
    "\n",
    "# Check if the API key is loaded correctly\n",
    "if not CMC_API_KEY:\n",
    "    raise ValueError(\"CoinMarketCap API Key not found. Make sure it's stored in the .env file.\")\n"
   ]
  },
  {
   "cell_type": "code",
   "execution_count": 3,
   "metadata": {},
   "outputs": [
    {
     "name": "stdout",
     "output_type": "stream",
     "text": [
      "✅ Top 50 cryptos saved to 'data/top_50_cryptos.txt'.\n"
     ]
    }
   ],
   "source": [
    "# --- Step 1: Fetch Top 50 Cryptos from CoinMarketCap ---\n",
    "def get_top_50_cryptos():\n",
    "    url = \"https://pro-api.coinmarketcap.com/v1/cryptocurrency/listings/latest\"\n",
    "    headers = {\n",
    "        \"X-CMC_PRO_API_KEY\": CMC_API_KEY,\n",
    "        \"Accepts\": \"application/json\",\n",
    "    }\n",
    "    params = {\"start\": 1, \"limit\": 50, \"convert\": \"USD\"}\n",
    "\n",
    "    response = requests.get(url, headers=headers, params=params)\n",
    "    \n",
    "    # Check if request was successful\n",
    "    if response.status_code != 200:\n",
    "        raise Exception(f\"Error fetching data from CoinMarketCap: {response.status_code} {response.text}\")\n",
    "\n",
    "    data = response.json()\n",
    "    \n",
    "    # Extract the top 50 cryptocurrency symbols\n",
    "    top_50_symbols = [crypto[\"symbol\"] for crypto in data[\"data\"]]\n",
    "    \n",
    "    return top_50_symbols\n",
    "\n",
    "# Fetch data\n",
    "top_50 = get_top_50_cryptos()\n",
    "\n",
    "# --- Step 2: Save to a .txt File ---\n",
    "file_path = \"data/top_50_cryptos.txt\"\n",
    "\n",
    "with open(file_path, \"w\") as f:\n",
    "    for symbol in top_50:\n",
    "        f.write(symbol + \"\\n\")\n",
    "\n",
    "print(f\"✅ Top 50 cryptos saved to '{file_path}'.\")\n"
   ]
  },
  {
   "cell_type": "code",
   "execution_count": null,
   "metadata": {},
   "outputs": [],
   "source": []
  }
 ],
 "metadata": {
  "kernelspec": {
   "display_name": "ds",
   "language": "python",
   "name": "python3"
  },
  "language_info": {
   "codemirror_mode": {
    "name": "ipython",
    "version": 3
   },
   "file_extension": ".py",
   "mimetype": "text/x-python",
   "name": "python",
   "nbconvert_exporter": "python",
   "pygments_lexer": "ipython3",
   "version": "3.12.5"
  }
 },
 "nbformat": 4,
 "nbformat_minor": 2
}
